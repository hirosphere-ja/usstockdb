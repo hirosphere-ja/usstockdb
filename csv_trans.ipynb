{
  "nbformat": 4,
  "nbformat_minor": 0,
  "metadata": {
    "colab": {
      "name": "csv_trans.ipynb",
      "provenance": [],
      "collapsed_sections": [],
      "authorship_tag": "ABX9TyM6tAqlBhTxhKS3R/maxa6y",
      "include_colab_link": true
    },
    "kernelspec": {
      "name": "python3",
      "display_name": "Python 3"
    }
  },
  "cells": [
    {
      "cell_type": "markdown",
      "metadata": {
        "id": "view-in-github",
        "colab_type": "text"
      },
      "source": [
        "<a href=\"https://colab.research.google.com/github/hirosphere-ja/usstockdb/blob/master/csv_trans.ipynb\" target=\"_parent\"><img src=\"https://colab.research.google.com/assets/colab-badge.svg\" alt=\"Open In Colab\"/></a>"
      ]
    },
    {
      "cell_type": "code",
      "metadata": {
        "id": "_OKnU1U7xZo3",
        "colab_type": "code",
        "outputId": "dcde7aa5-026f-4b7a-f72f-ad8334ee4a0d",
        "colab": {
          "base_uri": "https://localhost:8080/",
          "height": 34
        }
      },
      "source": [
        "str = '20200225,       2490,       2490,       2490,       2490,         --,         --,         --,       2490,              1,             --,             --'\n",
        "str = str.replace(' ', '')\n",
        "print(str)\n",
        "#スペースを削除"
      ],
      "execution_count": 128,
      "outputs": [
        {
          "output_type": "stream",
          "text": [
            "20200225,2490,2490,2490,2490,--,--,--,2490,1,--,--\n"
          ],
          "name": "stdout"
        }
      ]
    },
    {
      "cell_type": "code",
      "metadata": {
        "id": "gQUohO1n1vap",
        "colab_type": "code",
        "outputId": "beba4677-abec-4bd4-f94e-16f7d3b69aea",
        "colab": {
          "base_uri": "https://localhost:8080/",
          "height": 34
        }
      },
      "source": [
        "str = str.split(',')\n",
        "print(str)\n",
        "#カンマを区切りとして文字列を分割"
      ],
      "execution_count": 129,
      "outputs": [
        {
          "output_type": "stream",
          "text": [
            "['20200225', '2490', '2490', '2490', '2490', '--', '--', '--', '2490', '1', '--', '--']\n"
          ],
          "name": "stdout"
        }
      ]
    },
    {
      "cell_type": "code",
      "metadata": {
        "id": "3aBBOeWI7U2H",
        "colab_type": "code",
        "colab": {
          "base_uri": "https://localhost:8080/",
          "height": 34
        },
        "outputId": "ccdf6e59-d375-4fda-c417-a20fef44baeb"
      },
      "source": [
        "#str = list(str)\n",
        "del str[5:9]\n",
        "print(str)\n",
        "#5日平均,25日平均,75日平均,VWAPを削除"
      ],
      "execution_count": 130,
      "outputs": [
        {
          "output_type": "stream",
          "text": [
            "['20200225', '2490', '2490', '2490', '2490', '1', '--', '--']\n"
          ],
          "name": "stdout"
        }
      ]
    },
    {
      "cell_type": "code",
      "metadata": {
        "id": "V4pXxfl482xU",
        "colab_type": "code",
        "colab": {
          "base_uri": "https://localhost:8080/",
          "height": 34
        },
        "outputId": "7f288148-cdb9-487c-f044-d47159fcd9b5"
      },
      "source": [
        "del str[-3:]\n",
        "print(str)\n",
        "#5日平均,25日平均を削除"
      ],
      "execution_count": 131,
      "outputs": [
        {
          "output_type": "stream",
          "text": [
            "['20200225', '2490', '2490', '2490', '2490']\n"
          ],
          "name": "stdout"
        }
      ]
    },
    {
      "cell_type": "code",
      "metadata": {
        "id": "9yu6uNdE9hUA",
        "colab_type": "code",
        "colab": {
          "base_uri": "https://localhost:8080/",
          "height": 102
        },
        "outputId": "766768fb-9290-4ab6-f0b5-59623e1a41a9"
      },
      "source": [
        "for i in range(len(str)):\n",
        "  print(str[i])\n",
        "#配列を利用して"
      ],
      "execution_count": 132,
      "outputs": [
        {
          "output_type": "stream",
          "text": [
            "20200225\n",
            "2490\n",
            "2490\n",
            "2490\n",
            "2490\n"
          ],
          "name": "stdout"
        }
      ]
    }
  ]
}